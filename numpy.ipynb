{
  "nbformat": 4,
  "nbformat_minor": 0,
  "metadata": {
    "colab": {
      "provenance": [],
      "authorship_tag": "ABX9TyPVMyp9J4R/x/YryYfjCfSt",
      "include_colab_link": true
    },
    "kernelspec": {
      "name": "python3",
      "display_name": "Python 3"
    },
    "language_info": {
      "name": "python"
    }
  },
  "cells": [
    {
      "cell_type": "markdown",
      "metadata": {
        "id": "view-in-github",
        "colab_type": "text"
      },
      "source": [
        "<a href=\"https://colab.research.google.com/github/Arth9vansola/Aero/blob/main/numpy.ipynb\" target=\"_parent\"><img src=\"https://colab.research.google.com/assets/colab-badge.svg\" alt=\"Open In Colab\"/></a>"
      ]
    },
    {
      "cell_type": "code",
      "execution_count": 1,
      "metadata": {
        "id": "CIQYDV8kombH"
      },
      "outputs": [],
      "source": [
        "import numpy as np\n"
      ]
    },
    {
      "cell_type": "code",
      "source": [
        "n_array = np.array([1,2,3])"
      ],
      "metadata": {
        "id": "KirnIh-9q2io"
      },
      "execution_count": 2,
      "outputs": []
    },
    {
      "cell_type": "code",
      "source": [
        "print(n_array)"
      ],
      "metadata": {
        "colab": {
          "base_uri": "https://localhost:8080/"
        },
        "id": "49ShexVOq9aD",
        "outputId": "5fb3dbf0-678f-4dec-f19b-da18434abc4c"
      },
      "execution_count": 5,
      "outputs": [
        {
          "output_type": "stream",
          "name": "stdout",
          "text": [
            "[1 2 3]\n"
          ]
        }
      ]
    },
    {
      "cell_type": "code",
      "source": [
        "nl_array = np.zeros((2,3))\n",
        "print(nl_array)"
      ],
      "metadata": {
        "colab": {
          "base_uri": "https://localhost:8080/"
        },
        "id": "atCU1twnrMwN",
        "outputId": "d376b739-73b8-4c22-f275-35520b7ab26f"
      },
      "execution_count": 8,
      "outputs": [
        {
          "output_type": "stream",
          "name": "stdout",
          "text": [
            "[[0. 0. 0.]\n",
            " [0. 0. 0.]]\n"
          ]
        }
      ]
    },
    {
      "cell_type": "code",
      "source": [
        "nl2_array = np.ones((2,3))\n",
        "print(nl2_array)"
      ],
      "metadata": {
        "colab": {
          "base_uri": "https://localhost:8080/"
        },
        "id": "4N834UylrZyH",
        "outputId": "a229e328-381a-4b91-c89b-2524e2b0942c"
      },
      "execution_count": 10,
      "outputs": [
        {
          "output_type": "stream",
          "name": "stdout",
          "text": [
            "[[1. 1. 1.]\n",
            " [1. 1. 1.]]\n"
          ]
        }
      ]
    },
    {
      "cell_type": "markdown",
      "source": [
        "#full array\n"
      ],
      "metadata": {
        "id": "tYEPA2B_rsWu"
      }
    },
    {
      "cell_type": "code",
      "source": [
        "full_array = np.full((10,10),7)\n",
        "print(full_array)"
      ],
      "metadata": {
        "colab": {
          "base_uri": "https://localhost:8080/"
        },
        "id": "yV5NiBZlru0e",
        "outputId": "eb611c40-5734-41d8-d662-c286fd922977"
      },
      "execution_count": 12,
      "outputs": [
        {
          "output_type": "stream",
          "name": "stdout",
          "text": [
            "[[7 7 7 7 7 7 7 7 7 7]\n",
            " [7 7 7 7 7 7 7 7 7 7]\n",
            " [7 7 7 7 7 7 7 7 7 7]\n",
            " [7 7 7 7 7 7 7 7 7 7]\n",
            " [7 7 7 7 7 7 7 7 7 7]\n",
            " [7 7 7 7 7 7 7 7 7 7]\n",
            " [7 7 7 7 7 7 7 7 7 7]\n",
            " [7 7 7 7 7 7 7 7 7 7]\n",
            " [7 7 7 7 7 7 7 7 7 7]\n",
            " [7 7 7 7 7 7 7 7 7 7]]\n"
          ]
        }
      ]
    },
    {
      "cell_type": "markdown",
      "source": [
        "# to create sequence of number arange(start,stop,step)"
      ],
      "metadata": {
        "id": "AHoZahJDsHmy"
      }
    },
    {
      "cell_type": "code",
      "source": [
        "array1 = np.arange(1,10,3)\n",
        "print(array1)"
      ],
      "metadata": {
        "colab": {
          "base_uri": "https://localhost:8080/"
        },
        "id": "dgjE73mosLmQ",
        "outputId": "56320dcb-890b-4245-c8f1-1972600e9558"
      },
      "execution_count": 14,
      "outputs": [
        {
          "output_type": "stream",
          "name": "stdout",
          "text": [
            "[ 1  4  7 10]\n"
          ]
        }
      ]
    },
    {
      "cell_type": "markdown",
      "source": [
        "# identity matrices\n",
        "\n"
      ],
      "metadata": {
        "id": "QsmMi6YfswWI"
      }
    },
    {
      "cell_type": "code",
      "source": [
        "identity_matrices = np.eye((3))\n",
        "print(identity_matrices)"
      ],
      "metadata": {
        "colab": {
          "base_uri": "https://localhost:8080/"
        },
        "id": "fNU_Z3wEsztE",
        "outputId": "bc3e2b20-10ef-4e01-b3ac-d640f7269425"
      },
      "execution_count": 18,
      "outputs": [
        {
          "output_type": "stream",
          "name": "stdout",
          "text": [
            "[[1. 0. 0.]\n",
            " [0. 1. 0.]\n",
            " [0. 0. 1.]]\n"
          ]
        }
      ]
    },
    {
      "cell_type": "code",
      "source": [],
      "metadata": {
        "id": "Wholaib4tAiU"
      },
      "execution_count": null,
      "outputs": []
    }
  ]
}